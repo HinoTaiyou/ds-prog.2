from bs4 import BeautifulSoup
import urllib.request
import pandas as pd
import requests
import re

# URLリスト
url_list = ['https://www.jalan.net/yad382598/kuchikomi/?screenId=UWW3001&yadNo=382598&smlCd=136802&distCd=01&ccnt=lean-kuchikomi-link-2']

# 各URLから取得したデータを格納するためのリスト
post_body_text = []
lead_text = []
plan_info_text = []
post_date_text = []
rate_list_text = []
hotel_name_text = []
integrated_rate_text = []
cat_table_text = []
c_label_text = []

for row in url_list:
    row = str(row)
    html = urllib.request.urlopen(row)
    soup = BeautifulSoup(html, 'html.parser')

    # 各要素を抽出
    post_body = soup.find_all("p", class_='jlnpc-kuchikomiCassette__postBody')
    lead = soup.find_all("p", class_='jlnpc-kuchikomiCassette__lead')
    plan_info = soup.find_all("dl", class_='jlnpc-kuchikomiCassette__planInfoList')
    post_date = soup.find_all("p", class_='jlnpc-kuchikomiCassette__postDate')
    rate_list = soup.find_all("dl", class_='jlnpc-kuchikomiCassette__rateList')
    hotel_name = soup.find_all("p", class_='jlnpc-styleguide-scope jlnpc-yado__subTitle')
    rating = soup.find_all('span', class_='jlnpc-kuchikomi__point')
    cat_table = soup.find_all("table", class_='jlnpc-kuchikomi__catTable')
    c_label = soup.find_all("span", class_='c-label')

    # テキストを抽出し、リストに格納
    post_body_text.extend([element.get_text().strip() for element in post_body])
    lead_text.extend([element.get_text().strip() for element in lead])
    plan_info_text.extend([element.get_text().strip() for element in plan_info])
    post_date_text.extend([element.get_text().strip() for element in post_date])
    rate_list_text.extend([element.get_text().strip() for element in rate_list])
    hotel_name_text.extend([element.get_text().strip() for element in hotel_name])
    integrated_rate_text.extend([element.get_text().strip() for element in rating])
    cat_table_text.extend([element.get_text().strip() for element in cat_table])
    c_label_text.extend([element.get_text().strip() for element in c_label])

# データの整理
sex = []
age = []
purpose = []  # 利用用途
room_type = []  # 部屋タイプ
meal_type = []  # 食事タイプ
post_date_text_v2 = []  # 投稿日
periods = []  # 時期
plans = []  # プラン名
prices = []  # 価格帯
low_prices = []  # 価格帯
high_prices = []  # 価格帯
room_ratings = []
bath_ratings = []
breakfast_ratings = []
dinner_ratings = []
service_ratings = []
cleanliness_ratings = []
overall_room_rating = []
overall_bath_rating = []
overall_breakfast_rating = []
overall_dinner_rating = []
overall_service_rating = []
overall_cleanliness_rating = []

for i in range(0, len(c_label_text), 4):  # 4つの要素ごとにループ
    # 性別と年齢の抽出
    sex_age = c_label_text[i].strip().split('/')
    if len(sex_age) == 2:
        sex.append(sex_age[0])
        age.append(sex_age[1])
    else:
        sex.append(None)
        age.append(None)

    # 利用用途の抽出
    purpose.append(c_label_text[i + 1].strip() if i + 1 < len(c_label_text) else None)

    # 部屋タイプの抽出
    room_type.append(c_label_text[i + 2].strip() if i + 2 < len(c_label_text) else None)

    # 食事タイプの抽出
    meal_type.append(c_label_text[i + 3].strip() if i + 3 < len(c_label_text) else None)

# 正規表現パターンの定義
date_pattern = r'\d{4}/\d{1,2}/\d{1,2}'

for text in post_date_text:
    # 正規表現を使用して日付を抽出
    match = re.search(date_pattern, text)
    if match:
        # 抽出した日付を新しいリストに追加
        post_date_text_v2.append(match.group())

for item in plan_info_text:
    if item.startswith('時期'):
        periods.append(item.split('\n')[1].split('宿泊')[0])  # 時期の情報を追加
    elif item.startswith('プラン'):
        plans.append(item.split('\n')[1])  # プラン名の情報を追加
    elif item.startswith('価格帯'):
        prices.append(item.split('\n')[-1].split('円')[0])  # 価格帯の情報を追加
        if '〜' in item.split('\n')[-1].split('円')[0]:
            low_prices.append(item.split('\n')[-1].split('〜')[0])
            high_prices.append(item.split('\n')[-1].split('円')[0].split('〜')[1])
        elif '～' in item.split('\n')[-1].split('円')[0]:
            low_prices.append(item.split('\n')[-1].split('～')[0])
            high_prices.append(item.split('\n')[-1].split('円')[0].split('～')[1])

for item in plan_info_text:
    if item.startswith('時期'):
        periods.append(item.split('\n')[1].split('宿泊')[0])  # 時期の情報を追加
    elif item.startswith('プラン'):
        plans.append(item.split('\n')[1])  # プラン名の情報を追加
    elif item.startswith('価格帯'):
        prices.append(item.split('\n')[-1].split('円')[0])  # 価格帯の情報を追加
        if '〜' in item.split('\n')[-1].split('円')[0]:
            low_prices.append(item.split('\n')[-1].split('〜')[0])
            high_prices.append(item.split('\n')[-1].split('円')[0].split('〜')[1])
        elif '～' in item.split('\n')[-1].split('円')[0]:
            low_prices.append(item.split('\n')[-1].split('～')[0])
            high_prices.append(item.split('\n')[-1].split('円')[0].split('～')[1])

for item in cat_table_text:
    lines = item.split('\n')
    # 各カテゴリの評価を抽出
    overall_room_rating = lines[lines.index('部屋') + 1]
    overall_bath_rating = lines[lines.index('風呂') + 1]
    overall_breakfast_rating = lines[lines.index('料理（朝食）') + 1]
    overall_dinner_rating = lines[lines.index('料理（夕食）') + 1]
    overall_service_rating = lines[lines.index('接客・サービス') + 1]
    overall_cleanliness_rating = lines[lines.index('清潔感') + 1]

# DataFrameを作成
data = pd.DataFrame({
    'sex': sex,
    'age': age,
    'purpose': purpose,
    'room_type': room_type,
    'meal_type': meal_type,
    'post_body': post_body_text,
    'post_lead': lead_text,
    'post_date': post_date_text_v2,
    'periods': periods,
    'plans': plans,
    'prices': prices,
    'low_prices': low_prices,
    'high_prices': high_prices,
    'room_ratings': room_ratings,
    'bath_ratings': bath_ratings,
    'breakfast_ratings': breakfast_ratings,
    'dinner_ratings': dinner_ratings,
    'service_ratings': service_ratings,
    'cleanliness_ratings': cleanliness_ratings
})

# ホテル名だけを抽出
hotel_names = [name.split('のクチコミ・評価')[0] for name in hotel_name_text]

# データセットのすべての行に同じホテル名を適用
data['ホテル名'] = hotel_names * len(data)

import pandas as pd
import matplotlib.pyplot as plt
import matplotlib.font_manager as fm

# 'prices' ごとの性別割合を計算
prices_sex_distribution = data.groupby('prices')['sex'].value_counts(normalize=True).unstack().fillna(0)

# 日本語フォントの設定
font_path = '/System/Library/Fonts/ヒラギノ角ゴシック W8.ttc'
font_prop = fm.FontProperties(fname=font_path)

# Matplotlibにフォントを設定
plt.rcParams['font.family'] = font_prop.get_name()

# 例として日本語文字を含むプロットを作成
prices_sex_distribution.plot(kind='barh', stacked=True, figsize=(10, 6))
plt.title('価格帯ごとの性別割合', fontproperties=font_prop)
plt.xlabel('割合', fontproperties=font_prop)
plt.ylabel('価格帯', fontproperties=font_prop)
plt.legend(title='性別', prop=font_prop)
plt.show()

# 年齢ごとの性別割合を計算
age_sex_distribution = data.groupby('age')['sex'].value_counts(normalize=True).unstack().fillna(0)

# 横棒グラフで表示
age_sex_distribution.sort_index().plot(kind='barh', stacked=True, figsize=(10, 6))
plt.title('年齢ごとの性別割合')
plt.xlabel('割合')
plt.ylabel('年齢')
plt.legend(title='性別')
plt.show()

# 性別ごとの利用用途割合を計算
sex_purpose_distribution = data.groupby('sex')['purpose'].value_counts(normalize=True).unstack().fillna(0)

# 横棒グラフで表示
sex_purpose_distribution.plot(kind='barh', stacked=True, figsize=(10, 6))
plt.title('性別ごとの利用用途割合')
plt.xlabel('割合')
plt.ylabel('性別')
plt.legend(title='利用用途')
plt.show()

# 評価データが文字列の場合、数値型に変換
rating_columns = ['room_ratings', 'bath_ratings', 'breakfast_ratings', 'dinner_ratings', 'service_ratings', 'cleanliness_ratings']
for column in rating_columns:
    data[column] = pd.to_numeric(data[column], errors='coerce')

# 性別の割合を計算
sex_counts = data['sex'].value_counts()

# 円グラフを描画
plt.figure(figsize=(8, 6))
sex_counts.plot(kind='pie', autopct='%1.1f%%')
plt.title('性別の割合')
plt.ylabel('') # Y軸ラベルを非表示に
plt.show()

# 利用用途の割合を計算
purpose_counts = data['purpose'].value_counts()

# 円グラフを描画
plt.figure(figsize=(8, 6))
purpose_counts.plot(kind='pie', autopct='%1.1f%%')
plt.title('利用用途の割合')
plt.ylabel('')
plt.show()

# 横棒グラフで表示
prices_sex_distribution.plot(kind='barh', stacked=True, figsize=(10, 6))
plt.title('価格帯ごとの性別割合')
plt.xlabel('割合')
plt.ylabel('価格帯')
plt.legend(title='性別')
plt.show()

# 評価データが文字列の場合、数値型に変換
rating_columns = ['room_ratings', 'bath_ratings', 'breakfast_ratings', 'dinner_ratings', 'service_ratings', 'cleanliness_ratings']
for column in rating_columns:
    data[column] = pd.to_numeric(data[column], errors='coerce')

# 年齢層ごとに利用用途の割合を計算
purpose_by_age = data.groupby('age')['purpose'].value_counts(normalize=True).unstack().fillna(0)

# 横棒グラフの描画
purpose_by_age.plot(kind='barh', stacked=True, figsize=(10, 6))
plt.title('年齢層ごとの利用用途の割合')
plt.xlabel('割合')
plt.ylabel('年齢層')
plt.legend(title='利用用途')
plt.show()
